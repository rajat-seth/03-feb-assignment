{
 "cells": [
  {
   "cell_type": "markdown",
   "id": "8f4fc6b7-6605-41df-9f60-4425503a7f2b",
   "metadata": {},
   "source": [
    "Q1)\n",
    "\n",
    "def key is used to create a function."
   ]
  },
  {
   "cell_type": "code",
   "execution_count": 12,
   "id": "2926a604-f0a6-4a59-b466-8a63bff8b71f",
   "metadata": {},
   "outputs": [],
   "source": [
    "def test(a,b):\n",
    "    n=[]\n",
    "    for i in range(1,26):\n",
    "        if i%2!=0:\n",
    "            n.append(i)\n",
    "    return n\n",
    "    \n",
    "    "
   ]
  },
  {
   "cell_type": "code",
   "execution_count": 13,
   "id": "59d89325-c87f-4d59-b4c5-c815e4bc65f6",
   "metadata": {},
   "outputs": [
    {
     "data": {
      "text/plain": [
       "[1, 3, 5, 7, 9, 11, 13, 15, 17, 19, 21, 23, 25]"
      ]
     },
     "execution_count": 13,
     "metadata": {},
     "output_type": "execute_result"
    }
   ],
   "source": [
    "test(1,26)"
   ]
  },
  {
   "cell_type": "markdown",
   "id": "0baa5389-8227-40c4-baa3-e3aade4d07c1",
   "metadata": {},
   "source": [
    "Q2)\n",
    "\n",
    "*args is used in a function so that multiple arguments can be passed in a function. It become important when one is unsure about the number of arguments to be passed.\n",
    "**kwargs is used when we have to pass key and value pair and number of arguments is unknown.\n",
    "\n",
    "\n"
   ]
  },
  {
   "cell_type": "code",
   "execution_count": 26,
   "id": "42fda210-c9c8-47ca-8c97-6202f8cc06a0",
   "metadata": {},
   "outputs": [],
   "source": [
    "def test(*args):\n",
    "    return args\n",
    "    "
   ]
  },
  {
   "cell_type": "code",
   "execution_count": 27,
   "id": "dc33de44-b6a1-4c02-8697-5f71da8afec2",
   "metadata": {},
   "outputs": [
    {
     "data": {
      "text/plain": [
       "(1, 2, 3)"
      ]
     },
     "execution_count": 27,
     "metadata": {},
     "output_type": "execute_result"
    }
   ],
   "source": [
    "test(1,2,3)"
   ]
  },
  {
   "cell_type": "code",
   "execution_count": 28,
   "id": "9b0e324a-958e-4e73-a5bf-38c8b00d865a",
   "metadata": {},
   "outputs": [
    {
     "data": {
      "text/plain": [
       "(1, 2, 4, 5, 6)"
      ]
     },
     "execution_count": 28,
     "metadata": {},
     "output_type": "execute_result"
    }
   ],
   "source": [
    "test(1,2,4,5,6)"
   ]
  },
  {
   "cell_type": "markdown",
   "id": "dfea841e-20d6-4517-999d-3cbee6594f49",
   "metadata": {},
   "source": [
    "So here basically we can note that we have not provoded any fixed number of argument in test instead we have given *args which allow us to pass n number of arguments in test function."
   ]
  },
  {
   "cell_type": "code",
   "execution_count": 36,
   "id": "05d2759a-10b3-4484-986d-7b25f420d286",
   "metadata": {},
   "outputs": [],
   "source": [
    "def test(**kwargs):\n",
    "    return kwargs\n",
    "    "
   ]
  },
  {
   "cell_type": "code",
   "execution_count": 39,
   "id": "936df70a-91b1-482d-8247-6cd543c27ee6",
   "metadata": {},
   "outputs": [
    {
     "data": {
      "text/plain": [
       "{'name': 'rajat', 'age': 21}"
      ]
     },
     "execution_count": 39,
     "metadata": {},
     "output_type": "execute_result"
    }
   ],
   "source": [
    "test(name=\"rajat\",age=21)"
   ]
  },
  {
   "cell_type": "code",
   "execution_count": 40,
   "id": "f6f6d92e-02c8-4854-817a-38fdcc7b8bdc",
   "metadata": {},
   "outputs": [
    {
     "data": {
      "text/plain": [
       "{'name': 'rajat', 'age': 21, 'gender': 'male'}"
      ]
     },
     "execution_count": 40,
     "metadata": {},
     "output_type": "execute_result"
    }
   ],
   "source": [
    "test(name=\"rajat\",age=21,gender=\"male\")"
   ]
  },
  {
   "cell_type": "markdown",
   "id": "4bc5022c-66f8-4b05-b981-ff48302a6d97",
   "metadata": {},
   "source": [
    "So we can notice that any number of key and value can be passed using **kwargs."
   ]
  },
  {
   "cell_type": "markdown",
   "id": "0af0c945-84f2-4a81-84e5-2c4e74267373",
   "metadata": {},
   "source": [
    "Q3)\n",
    "\n",
    "Iterators are methods that iterate collection like list,tuple,etc.Uisng an iterator method, we can loop through an object nd return its elements.\n",
    "iter() is used to initialise a iterator.\n",
    "and next() is used to iteratate.\n"
   ]
  },
  {
   "cell_type": "code",
   "execution_count": 41,
   "id": "82d2e02b-b418-4150-a6e4-4698f68790d7",
   "metadata": {},
   "outputs": [],
   "source": [
    "list=[2,4,6,8,10,12,14,16,18,20]"
   ]
  },
  {
   "cell_type": "code",
   "execution_count": 45,
   "id": "af28f87a-c0b7-4c90-95b3-03bde65e1004",
   "metadata": {},
   "outputs": [
    {
     "name": "stdout",
     "output_type": "stream",
     "text": [
      "2\n",
      "4\n",
      "6\n",
      "8\n",
      "10\n"
     ]
    }
   ],
   "source": [
    "iter(list)\n",
    "iterator=iter(list)\n",
    "print(next(iterator))\n",
    "print(next(iterator))\n",
    "print(next(iterator))\n",
    "print(next(iterator))\n",
    "print(next(iterator))"
   ]
  },
  {
   "cell_type": "markdown",
   "id": "d73b5154-0092-44f0-bb36-7711fcae2c48",
   "metadata": {},
   "source": [
    "Q4)\n",
    "\n",
    "Generator function are used when we want to produce a sequence of value when iterated over as in iterator one by one value is produced but generator gives a sequence of value at a time.\n",
    "Yield is used in place of return keyword in genrator function to give the final iterated value."
   ]
  },
  {
   "cell_type": "code",
   "execution_count": null,
   "id": "aaa3e817-116d-4924-8675-3f33a2caad71",
   "metadata": {},
   "outputs": [],
   "source": [
    "def testfib(n):\n",
    "    a,b=0,1\n",
    "    for i in range(n):\n",
    "        yield a\n",
    "        a,b=b,a+b\n",
    "    "
   ]
  },
  {
   "cell_type": "code",
   "execution_count": 48,
   "id": "95f460d6-faec-476c-b978-c93725440250",
   "metadata": {},
   "outputs": [
    {
     "name": "stdout",
     "output_type": "stream",
     "text": [
      "0\n",
      "1\n",
      "1\n",
      "2\n",
      "3\n",
      "5\n",
      "8\n",
      "13\n",
      "21\n",
      "34\n",
      "55\n",
      "89\n",
      "144\n",
      "233\n",
      "377\n",
      "610\n",
      "987\n",
      "1597\n",
      "2584\n",
      "4181\n"
     ]
    }
   ],
   "source": [
    "for i in testfib(20):\n",
    "    print(i)"
   ]
  },
  {
   "cell_type": "markdown",
   "id": "83eaec55-8ac6-4a98-9a6a-df5dcaa0fc3c",
   "metadata": {},
   "source": [
    "Above is an example of generator function."
   ]
  },
  {
   "cell_type": "code",
   "execution_count": 51,
   "id": "1a1faa80-d4c2-43de-8f1e-999a39aac2ba",
   "metadata": {},
   "outputs": [
    {
     "ename": "SyntaxError",
     "evalue": "unmatched ')' (999856600.py, line 1)",
     "output_type": "error",
     "traceback": [
      "\u001b[0;36m  Cell \u001b[0;32mIn[51], line 1\u001b[0;36m\u001b[0m\n\u001b[0;31m    Q5)\u001b[0m\n\u001b[0m      ^\u001b[0m\n\u001b[0;31mSyntaxError\u001b[0m\u001b[0;31m:\u001b[0m unmatched ')'\n"
     ]
    }
   ],
   "source": [
    "Q5)\n",
    "\n",
    "def prime(n):\n",
    "    for i in n:\n",
    "        if i%"
   ]
  },
  {
   "cell_type": "code",
   "execution_count": null,
   "id": "27c34558-9b8e-4306-ac76-d951f9ecc834",
   "metadata": {},
   "outputs": [],
   "source": []
  }
 ],
 "metadata": {
  "kernelspec": {
   "display_name": "Python 3 (ipykernel)",
   "language": "python",
   "name": "python3"
  },
  "language_info": {
   "codemirror_mode": {
    "name": "ipython",
    "version": 3
   },
   "file_extension": ".py",
   "mimetype": "text/x-python",
   "name": "python",
   "nbconvert_exporter": "python",
   "pygments_lexer": "ipython3",
   "version": "3.10.8"
  }
 },
 "nbformat": 4,
 "nbformat_minor": 5
}
